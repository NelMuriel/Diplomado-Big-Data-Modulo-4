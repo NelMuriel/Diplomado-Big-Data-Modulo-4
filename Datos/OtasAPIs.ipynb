{
 "cells": [
  {
   "cell_type": "code",
   "execution_count": null,
   "metadata": {},
   "outputs": [],
   "source": [
    "import requests\n",
    "import pandas as pd\n",
    "\n",
    "url = 'https://www.inegi.org.mx/app/api/denue/v1/consulta/'\n",
    "metodo = 'Buscar/'\n",
    "condicion = 'restaurante/'\n",
    "coordenadas = '19.480642,-99.2396582/'\n",
    "distancia = '1500/'\n",
    "url = url + metodo + condicion + coordenadas + distancia + token\n",
    "rest_cerca = requests.get(url).json()\n",
    "pd.DataFrame(rest_cerca)"
   ]
  },
  {
   "cell_type": "code",
   "execution_count": null,
   "metadata": {},
   "outputs": [],
   "source": [
    "url = 'https://api.datos.gob.mx/v2/sinaica'\n",
    "response = requests.get(url)\n",
    "pd.DataFrame(response.json()['results'])"
   ]
  }
 ],
 "metadata": {
  "kernelspec": {
   "display_name": "DiplomadoEnv",
   "language": "python",
   "name": "diplomadoenv"
  },
  "language_info": {
   "codemirror_mode": {
    "name": "ipython",
    "version": 3
   },
   "file_extension": ".py",
   "mimetype": "text/x-python",
   "name": "python",
   "nbconvert_exporter": "python",
   "pygments_lexer": "ipython3",
   "version": "3.8.3"
  }
 },
 "nbformat": 4,
 "nbformat_minor": 4
}

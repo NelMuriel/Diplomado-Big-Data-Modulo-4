{
 "cells": [
  {
   "cell_type": "markdown",
   "metadata": {},
   "source": [
    "# Visualización de datos\n",
    "\n",
    "marcadores [aquí](https://matplotlib.org/api/markers_api.html?highlight=markers#module-matplotlib.markers)"
   ]
  },
  {
   "cell_type": "code",
   "execution_count": 1,
   "metadata": {},
   "outputs": [],
   "source": [
    "import matplotlib.pyplot as plt\n",
    "import numpy as np\n",
    "import pandas as pd\n",
    "import locale\n",
    "\n",
    "# Cargando y ordenando los datos\n",
    "\n",
    "incidencia_fc = pd.read_csv('../Datos/IDEFC_NM_may2020.csv', encoding = 'iso-8859-1', thousands = ',')\n",
    "vars_id = incidencia_fc.columns.values[range(0, 7)]\n",
    "incidencia_tidy = incidencia_fc.melt(id_vars = vars_id, \n",
    "                   var_name = 'Mes', \n",
    "                   value_name= 'Total')\n",
    "\n",
    "locale.setlocale(locale.LC_TIME, 'es_ES')\n",
    "incidencia_tidy = incidencia_tidy.assign(Periodo = lambda x: x.Año.astype('str') + '-' + x.Mes)\n",
    "incidencia_tidy['Tiempo'] = pd.to_datetime(incidencia_tidy['Periodo'], format = \"%Y-%B\")\n",
    "incidencia_tidy.set_index('Tiempo')\n",
    "\n",
    "# Funciones para manipular los datos\n",
    "\n",
    "def q25(series): \n",
    "    return np.quantile(series, 0.25)\n",
    "\n",
    "def q75(series):\n",
    "    return np.quantile(series, 0.75)\n",
    "\n",
    "def make_estado(Estado):\n",
    "    data_estado = (incidencia_tidy\n",
    "                    .query('Entidad == @Estado')\n",
    "                    .groupby(['Tiempo'])\n",
    "                    .agg({'Total':sum})\n",
    "                    )\n",
    "    return(data_estado)\n",
    "\n",
    "def robo_anual_entidad(Entidad):\n",
    "    data_anual = (incidencia_tidy.query('Entidad == @Entidad and `Subtipo de delito`== \"Robo a transeúnte en vía pública\"')\n",
    "                  .groupby(['Tiempo'])\n",
    "                  .agg({'Total':sum}))\n",
    "    data_anual = (data_anual.groupby(data_anual.index.strftime('%Y'))\n",
    "                  .agg([sum, 'mean', 'std', 'min', 'max', q25, q75]))\n",
    "    return data_anual     "
   ]
  },
  {
   "cell_type": "code",
   "execution_count": 2,
   "metadata": {},
   "outputs": [],
   "source": [
    "aguas = make_estado('Aguascalientes')\n",
    "yuca = make_estado('Yucatán')\n",
    "robo_aguas = robo_anual_entidad('Aguascalientes')\n",
    "robo_yuca = robo_anual_entidad('Yucatán')"
   ]
  },
  {
   "cell_type": "code",
   "execution_count": 3,
   "metadata": {},
   "outputs": [
    {
     "data": {
      "application/vnd.jupyter.widget-view+json": {
       "model_id": "d065fc8ffa854c228005703be695348d",
       "version_major": 2,
       "version_minor": 0
      },
      "text/plain": [
       "Canvas(toolbar=Toolbar(toolitems=[('Home', 'Reset original view', 'home', 'home'), ('Back', 'Back to previous …"
      ]
     },
     "metadata": {},
     "output_type": "display_data"
    },
    {
     "data": {
      "text/plain": [
       "[<matplotlib.lines.Line2D at 0x7faef28ea940>]"
      ]
     },
     "execution_count": 3,
     "metadata": {},
     "output_type": "execute_result"
    }
   ],
   "source": [
    "%matplotlib widget\n",
    "fig, ax = plt.subplots()\n",
    "\n",
    "ax.plot(aguas['Total'])\n",
    "ax.plot(yuca['Total'])"
   ]
  },
  {
   "cell_type": "code",
   "execution_count": 4,
   "metadata": {},
   "outputs": [
    {
     "data": {
      "application/vnd.jupyter.widget-view+json": {
       "model_id": "7ca9cadf3d3f4dd8acddeb483bdd5a92",
       "version_major": 2,
       "version_minor": 0
      },
      "text/plain": [
       "Canvas(toolbar=Toolbar(toolitems=[('Home', 'Reset original view', 'home', 'home'), ('Back', 'Back to previous …"
      ]
     },
     "metadata": {},
     "output_type": "display_data"
    },
    {
     "data": {
      "text/plain": [
       "[<matplotlib.lines.Line2D at 0x7faef2977340>]"
      ]
     },
     "execution_count": 4,
     "metadata": {},
     "output_type": "execute_result"
    }
   ],
   "source": [
    "%matplotlib widget\n",
    "fig, ax = plt.subplots()\n",
    "ax.plot(aguas['Total'], \n",
    "        marker = 'o', linestyle = '--')\n",
    "ax.plot(yuca['Total'],\n",
    "       marker = 'v', linestyle = '-.')"
   ]
  },
  {
   "cell_type": "code",
   "execution_count": 5,
   "metadata": {},
   "outputs": [
    {
     "data": {
      "application/vnd.jupyter.widget-view+json": {
       "model_id": "6918f37802a94966865f43192b3989d3",
       "version_major": 2,
       "version_minor": 0
      },
      "text/plain": [
       "Canvas(toolbar=Toolbar(toolitems=[('Home', 'Reset original view', 'home', 'home'), ('Back', 'Back to previous …"
      ]
     },
     "metadata": {},
     "output_type": "display_data"
    }
   ],
   "source": [
    "%matplotlib widget\n",
    "fig, ax = plt.subplots()\n",
    "ax.plot(aguas['Total'], \n",
    "        marker = 'o', linestyle = '--', color = 'red')\n",
    "ax.plot(yuca['Total'],\n",
    "       marker = 'v', linestyle = '-.', color = 'green')\n",
    "\n",
    "ax.set_xlabel('Tiempo (en meses)')  #Métodos \"set_\"\n",
    "ax.set_ylabel('Crímenes (total)')\n",
    "ax.set_title('Incidencia criminal en Aguascalientes y Yucatán')\n",
    "\n",
    "plt.show()"
   ]
  },
  {
   "cell_type": "code",
   "execution_count": 6,
   "metadata": {},
   "outputs": [
    {
     "data": {
      "application/vnd.jupyter.widget-view+json": {
       "model_id": "85b15c18ca0e4895915840559d05d2ea",
       "version_major": 2,
       "version_minor": 0
      },
      "text/plain": [
       "Canvas(toolbar=Toolbar(toolitems=[('Home', 'Reset original view', 'home', 'home'), ('Back', 'Back to previous …"
      ]
     },
     "metadata": {},
     "output_type": "display_data"
    },
    {
     "data": {
      "text/plain": [
       "[<matplotlib.lines.Line2D at 0x7faef2d12f40>]"
      ]
     },
     "execution_count": 6,
     "metadata": {},
     "output_type": "execute_result"
    }
   ],
   "source": [
    "%matplotlib widget\n",
    "fig, ax = plt.subplots()\n",
    "\n",
    "# La parte de aguascalientes\n",
    "ax.plot(robo_aguas[('Total','mean')], marker = 'o', color = 'darkslategrey')\n",
    "ax.plot(robo_aguas[('Total', 'q25')], marker = '^', color = 'firebrick', linestyle = ':')\n",
    "ax.plot(robo_aguas[('Total', 'q75')], marker = 'v', color = 'firebrick', linestyle = ':')"
   ]
  },
  {
   "cell_type": "code",
   "execution_count": 7,
   "metadata": {},
   "outputs": [
    {
     "data": {
      "application/vnd.jupyter.widget-view+json": {
       "model_id": "6c28b2f17f3c4ff580b3b33598532e44",
       "version_major": 2,
       "version_minor": 0
      },
      "text/plain": [
       "Canvas(toolbar=Toolbar(toolitems=[('Home', 'Reset original view', 'home', 'home'), ('Back', 'Back to previous …"
      ]
     },
     "metadata": {},
     "output_type": "display_data"
    }
   ],
   "source": [
    "%matplotlib widget\n",
    "fig, ax = plt.subplots()\n",
    "\n",
    "# La parte de aguascalientes\n",
    "ax.plot(robo_aguas[('Total','mean')], marker = 'o', color = 'darkslategrey')\n",
    "ax.plot(robo_aguas[('Total', 'q25')], marker = '^', color = 'firebrick', linestyle = ':')\n",
    "ax.plot(robo_aguas[('Total', 'q75')], marker = 'v', color = 'firebrick', linestyle = ':')\n",
    "# Añadimos yucatán\n",
    "ax.plot(robo_yuca[('Total','mean')], marker = 'o')\n",
    "ax.plot(robo_yuca[('Total', 'q25')], marker = '^', linestyle = ':', color = 'orange')\n",
    "ax.plot(robo_yuca[('Total', 'q75')], marker = 'v', linestyle = ':', color = 'orange')\n",
    "plt.show()\n",
    "\n"
   ]
  },
  {
   "cell_type": "code",
   "execution_count": 8,
   "metadata": {},
   "outputs": [
    {
     "data": {
      "application/vnd.jupyter.widget-view+json": {
       "model_id": "0b613fd5f0d8440b8d8218ffa2188e4e",
       "version_major": 2,
       "version_minor": 0
      },
      "text/plain": [
       "Canvas(toolbar=Toolbar(toolitems=[('Home', 'Reset original view', 'home', 'home'), ('Back', 'Back to previous …"
      ]
     },
     "metadata": {},
     "output_type": "display_data"
    }
   ],
   "source": [
    "%matplotlib widget\n",
    "fig, ax = plt.subplots(1, 2)\n",
    "ax[0].plot(robo_aguas[('Total','mean')], marker = 'o', color = 'darkslategrey')\n",
    "ax[0].plot(robo_aguas[('Total', 'q25')], marker = '^', color = 'firebrick', linestyle = ':')\n",
    "ax[0].plot(robo_aguas[('Total', 'q75')], marker = 'v', color = 'firebrick', linestyle = ':')\n",
    "\n",
    "ax[1].plot(robo_yuca[('Total','mean')], marker = 'o')\n",
    "ax[1].plot(robo_yuca[('Total', 'q25')], marker = '^', linestyle = ':', color = 'orange')\n",
    "ax[1].plot(robo_yuca[('Total', 'q75')], marker = 'v', linestyle = ':', color = 'orange')\n",
    "\n",
    "ax[0].set_title('Aguascalientes')\n",
    "ax[1].set_title('Yucatán')\n",
    "\n",
    "ax[0].set_ylabel('Robos totales')\n",
    "\n",
    "fig.suptitle('Robos totales y percentiles del 25 y 75')\n",
    "\n",
    "plt.show()"
   ]
  },
  {
   "cell_type": "markdown",
   "metadata": {},
   "source": [
    "#### Tu turno\n",
    "\n",
    "Otra forma de arreglar el problema del gráfico anterior es dar a cada curva su propio eje y.  En este ejercicio lo harás siguiendo los siguientes pasos:\n",
    "\n",
    "1. Define `fig` y `ax` con `plt.subplots()`\n",
    "2. Añade el gráfico de los robos totales de Aguascalientes\n",
    "3. Nomina el eje x como `'Tiempo'` y el eje y como `'Aguascalientes (total)'`\n",
    "4. Define `ax2` con el método `ax.twinx()` para generar un nuevo sistema coordenado.  Este sistema coordenado comparte la coordenada x con ax; pero tiene la coordenada y libre.  \n",
    "5. En el eje ax2 añade el gráfico de los robos totales en Yucatán\n",
    "6. Nomina el eje y de ax2 como `'Yucatán (total)'`\n",
    "7. Agrega un título a tu gráfico\n",
    "\n",
    "Si lo consideras necesario o útil, da un color distinto a cada línea y usa marcadores.  Si usas colores, añade el argumento `color = ...` al método `.set_ylabel()`"
   ]
  },
  {
   "cell_type": "code",
   "execution_count": 10,
   "metadata": {},
   "outputs": [
    {
     "data": {
      "application/vnd.jupyter.widget-view+json": {
       "model_id": "7428c08c27fa4ec69b99df8b5740b6d0",
       "version_major": 2,
       "version_minor": 0
      },
      "text/plain": [
       "Canvas(toolbar=Toolbar(toolitems=[('Home', 'Reset original view', 'home', 'home'), ('Back', 'Back to previous …"
      ]
     },
     "metadata": {},
     "output_type": "display_data"
    },
    {
     "data": {
      "text/plain": [
       "<function matplotlib.pyplot.show(*args, **kw)>"
      ]
     },
     "execution_count": 10,
     "metadata": {},
     "output_type": "execute_result"
    }
   ],
   "source": [
    "%matplotlib widget\n",
    "fig, ax = plt.subplots()\n",
    "ax.plot(robo_aguas[('Total','mean')], marker = 'o', color = 'blue')\n",
    "ax.set_xlabel('Tiempo')\n",
    "ax.set_ylabel('Aguascalientes (total)', color = 'blue')\n",
    "ax.tick_params('y', colors = 'blue')\n",
    "ax2 = ax.twinx()\n",
    "ax2.plot(robo_yuca[('Total', 'mean')], color = 'orange', marker = 'o')\n",
    "ax2.set_ylabel('Yucatán (total)', color = 'orange')\n",
    "ax2.tick_params('y', colors = 'orange')\n",
    "ax.set_title('Robos Totales')\n",
    "plt.show"
   ]
  },
  {
   "cell_type": "code",
   "execution_count": 11,
   "metadata": {},
   "outputs": [
    {
     "data": {
      "application/vnd.jupyter.widget-view+json": {
       "model_id": "7432da0c98824c85a62b2b0a1c32ad17",
       "version_major": 2,
       "version_minor": 0
      },
      "text/plain": [
       "Canvas(toolbar=Toolbar(toolitems=[('Home', 'Reset original view', 'home', 'home'), ('Back', 'Back to previous …"
      ]
     },
     "metadata": {},
     "output_type": "display_data"
    }
   ],
   "source": [
    "# Haciendo lo anterior una función (de una serie)\n",
    "def add_ts_plot(axis, y, color, ylabel, *args):\n",
    "    axis.plot(y, color = color, *args)\n",
    "    axis.set_ylabel(ylabel, color = color)\n",
    "    axis.tick_params('y', colors = color)\n",
    "\n",
    "fig, ax = plt.subplots()\n",
    "add_ts_plot(ax, robo_aguas[('Total', 'mean')], 'blue', 'Aguascalientes (medio)')\n",
    "\n",
    "ax2 = ax.twinx()\n",
    "add_ts_plot(ax2, robo_yuca[('Total', 'mean')], 'orange', 'Yucatán (medio)')\n",
    "    \n",
    "plt.show()"
   ]
  },
  {
   "cell_type": "code",
   "execution_count": 12,
   "metadata": {},
   "outputs": [
    {
     "data": {
      "application/vnd.jupyter.widget-view+json": {
       "model_id": "e0ddb58c12934e1290a0d4c151af65a1",
       "version_major": 2,
       "version_minor": 0
      },
      "text/plain": [
       "Canvas(toolbar=Toolbar(toolitems=[('Home', 'Reset original view', 'home', 'home'), ('Back', 'Back to previous …"
      ]
     },
     "metadata": {},
     "output_type": "display_data"
    },
    {
     "data": {
      "text/plain": [
       "(array([736055., 736146., 736238., 736330., 736420., 736511., 736603.,\n",
       "        736695., 736785.]),\n",
       " <a list of 9 Text xticklabel objects>)"
      ]
     },
     "execution_count": 12,
     "metadata": {},
     "output_type": "execute_result"
    }
   ],
   "source": [
    "# OTRA COSA UTIL: EL ZOOM POR FECHAS\n",
    "mis_años = aguas['2016-05-01':'2018-05-31']\n",
    "fig, ax = plt.subplots()\n",
    "ax.plot(mis_años['Total'], \n",
    "        marker = 'o', linestyle = '--', color = 'darkcyan')\n",
    "ax.set_xlabel('Tiempo (en meses)')  #Métodos \"set_\"\n",
    "ax.set_ylabel('Crímenes (total)')\n",
    "plt.xticks(rotation=45)"
   ]
  },
  {
   "cell_type": "markdown",
   "metadata": {},
   "source": [
    "## Comparaciones y resúmenes"
   ]
  },
  {
   "cell_type": "code",
   "execution_count": 13,
   "metadata": {},
   "outputs": [],
   "source": [
    "def robos_nacional_año(año):\n",
    "    robos_nacional = (incidencia_tidy\n",
    "                 .query('Año == @año and `Subtipo de delito` == \"Robo a transeúnte en vía pública\"')\n",
    "                 .groupby(['Entidad', 'Modalidad'])\n",
    "                 .agg({'Total':sum})).unstack()  \n",
    "    return robos_nacional"
   ]
  },
  {
   "cell_type": "code",
   "execution_count": 14,
   "metadata": {},
   "outputs": [
    {
     "data": {
      "text/html": [
       "<div>\n",
       "<style scoped>\n",
       "    .dataframe tbody tr th:only-of-type {\n",
       "        vertical-align: middle;\n",
       "    }\n",
       "\n",
       "    .dataframe tbody tr th {\n",
       "        vertical-align: top;\n",
       "    }\n",
       "\n",
       "    .dataframe thead tr th {\n",
       "        text-align: left;\n",
       "    }\n",
       "\n",
       "    .dataframe thead tr:last-of-type th {\n",
       "        text-align: right;\n",
       "    }\n",
       "</style>\n",
       "<table border=\"1\" class=\"dataframe\">\n",
       "  <thead>\n",
       "    <tr>\n",
       "      <th></th>\n",
       "      <th colspan=\"2\" halign=\"left\">Total</th>\n",
       "    </tr>\n",
       "    <tr>\n",
       "      <th>Modalidad</th>\n",
       "      <th>Con violencia</th>\n",
       "      <th>Sin violencia</th>\n",
       "    </tr>\n",
       "    <tr>\n",
       "      <th>Entidad</th>\n",
       "      <th></th>\n",
       "      <th></th>\n",
       "    </tr>\n",
       "  </thead>\n",
       "  <tbody>\n",
       "    <tr>\n",
       "      <th>Aguascalientes</th>\n",
       "      <td>659.0</td>\n",
       "      <td>1290.0</td>\n",
       "    </tr>\n",
       "    <tr>\n",
       "      <th>Baja California</th>\n",
       "      <td>3395.0</td>\n",
       "      <td>2287.0</td>\n",
       "    </tr>\n",
       "    <tr>\n",
       "      <th>Baja California Sur</th>\n",
       "      <td>54.0</td>\n",
       "      <td>20.0</td>\n",
       "    </tr>\n",
       "    <tr>\n",
       "      <th>Campeche</th>\n",
       "      <td>42.0</td>\n",
       "      <td>0.0</td>\n",
       "    </tr>\n",
       "    <tr>\n",
       "      <th>Chiapas</th>\n",
       "      <td>976.0</td>\n",
       "      <td>360.0</td>\n",
       "    </tr>\n",
       "  </tbody>\n",
       "</table>\n",
       "</div>"
      ],
      "text/plain": [
       "                            Total              \n",
       "Modalidad           Con violencia Sin violencia\n",
       "Entidad                                        \n",
       "Aguascalientes              659.0        1290.0\n",
       "Baja California            3395.0        2287.0\n",
       "Baja California Sur          54.0          20.0\n",
       "Campeche                     42.0           0.0\n",
       "Chiapas                     976.0         360.0"
      ]
     },
     "execution_count": 14,
     "metadata": {},
     "output_type": "execute_result"
    }
   ],
   "source": [
    "robos_2017 = robos_nacional_año(2017)\n",
    "robos_2017.head()"
   ]
  },
  {
   "cell_type": "code",
   "execution_count": 15,
   "metadata": {},
   "outputs": [
    {
     "data": {
      "application/vnd.jupyter.widget-view+json": {
       "model_id": "2dc82b8c7b1b4f7194e33056df940ced",
       "version_major": 2,
       "version_minor": 0
      },
      "text/plain": [
       "Canvas(toolbar=Toolbar(toolitems=[('Home', 'Reset original view', 'home', 'home'), ('Back', 'Back to previous …"
      ]
     },
     "metadata": {},
     "output_type": "display_data"
    }
   ],
   "source": [
    "%matplotlib widget\n",
    "fig, ax = plt.subplots()\n",
    "\n",
    "ax.set_title('Robos en el año 2017')\n",
    "\n",
    "ax.bar(robos_2017.index, robos_2017[('Total', 'Con violencia')])\n",
    "ax.set_ylabel('Robos Totales en el año')\n",
    "\n",
    "plt.show()"
   ]
  },
  {
   "cell_type": "code",
   "execution_count": 16,
   "metadata": {},
   "outputs": [
    {
     "data": {
      "application/vnd.jupyter.widget-view+json": {
       "model_id": "20b58c7ffdb94ce4a6931dcf88f27d7e",
       "version_major": 2,
       "version_minor": 0
      },
      "text/plain": [
       "Canvas(toolbar=Toolbar(toolitems=[('Home', 'Reset original view', 'home', 'home'), ('Back', 'Back to previous …"
      ]
     },
     "metadata": {},
     "output_type": "display_data"
    }
   ],
   "source": [
    "%matplotlib widget\n",
    "fig, ax = plt.subplots()\n",
    "\n",
    "ax.set_title('Robos en el año 2017')\n",
    "\n",
    "ax.bar(robos_2017.index, robos_2017[('Total', 'Con violencia')])\n",
    "ax.set_ylabel('Robos Totales en el año')\n",
    "\n",
    "ax.set_xticklabels(robos_2017.index, rotation = 90,\n",
    "                  fontdict = {'fontsize': 5})\n",
    "\n",
    "plt.show()"
   ]
  },
  {
   "cell_type": "code",
   "execution_count": 17,
   "metadata": {},
   "outputs": [
    {
     "data": {
      "application/vnd.jupyter.widget-view+json": {
       "model_id": "55464aaebdf84fdebed1a35278db3a36",
       "version_major": 2,
       "version_minor": 0
      },
      "text/plain": [
       "Canvas(toolbar=Toolbar(toolitems=[('Home', 'Reset original view', 'home', 'home'), ('Back', 'Back to previous …"
      ]
     },
     "metadata": {},
     "output_type": "display_data"
    }
   ],
   "source": [
    "%matplotlib widget\n",
    "fig, ax = plt.subplots()\n",
    "\n",
    "ax.set_title('Robos en el año 2017')\n",
    "\n",
    "ax.bar(robos_2017.index, robos_2017[('Total', 'Con violencia')])\n",
    "ax.set_ylabel('Robos Totales en el año')\n",
    "\n",
    "ax.bar(robos_2017.index, robos_2017[('Total', 'Sin violencia')], bottom = robos_2017[('Total', 'Con violencia')])\n",
    "\n",
    "ax.set_xticklabels(robos_2017.index, rotation = 90,\n",
    "                  fontdict = {'fontsize': 5})\n",
    "\n",
    "plt.show()"
   ]
  },
  {
   "cell_type": "code",
   "execution_count": 18,
   "metadata": {},
   "outputs": [
    {
     "data": {
      "application/vnd.jupyter.widget-view+json": {
       "model_id": "ec8a8589f8d7472497cbe46508814f6d",
       "version_major": 2,
       "version_minor": 0
      },
      "text/plain": [
       "Canvas(toolbar=Toolbar(toolitems=[('Home', 'Reset original view', 'home', 'home'), ('Back', 'Back to previous …"
      ]
     },
     "metadata": {},
     "output_type": "display_data"
    }
   ],
   "source": [
    "%matplotlib widget\n",
    "fig, ax = plt.subplots()\n",
    "\n",
    "ax.set_title('Robos en el año 2017')\n",
    "\n",
    "ax.bar(robos_2017.index, robos_2017[('Total', 'Con violencia')], label = 'Con violencia')\n",
    "ax.set_ylabel('Robos Totales en el año')\n",
    "\n",
    "ax.bar(robos_2017.index, robos_2017[('Total', 'Sin violencia')], bottom = robos_2017[('Total', 'Con violencia')], label = 'Sin violencia')\n",
    "\n",
    "ax.set_xticklabels(robos_2017.index, rotation = 90,\n",
    "                  fontdict = {'fontsize': 5})\n",
    "ax.legend()\n",
    "\n",
    "plt.show()"
   ]
  },
  {
   "cell_type": "markdown",
   "metadata": {},
   "source": [
    "## Tu turno\n",
    "Repite la idea del gráfico anterior; pero genera un gráfico porcentual (la altura de la barra azul deberá ser el porcentaje de robos con violencia en cada entidad federativa).  Para ello:\n",
    "\n",
    "1. Genera una nueva base de datos que contenga las columnas porcentuales (tendrás que calcularlas)\n",
    "2. Sigue el procedimiento del gráfico anterior con estas nuevas columnas"
   ]
  },
  {
   "cell_type": "code",
   "execution_count": 19,
   "metadata": {},
   "outputs": [
    {
     "data": {
      "application/vnd.jupyter.widget-view+json": {
       "model_id": "7fa5d926aeab4c7f9632301ea2336808",
       "version_major": 2,
       "version_minor": 0
      },
      "text/plain": [
       "Canvas(toolbar=Toolbar(toolitems=[('Home', 'Reset original view', 'home', 'home'), ('Back', 'Back to previous …"
      ]
     },
     "metadata": {},
     "output_type": "display_data"
    }
   ],
   "source": [
    "a = (incidencia_tidy\n",
    " .query('Año == 2017 and `Subtipo de delito`==\"Robo a transeúnte en vía pública\"')[['Entidad', 'Modalidad', 'Total']]\n",
    " .pivot_table(index = 'Entidad', columns = ['Modalidad'], aggfunc = sum, margins = True, margins_name = 'Total')\n",
    ")\n",
    "\n",
    "a.columns = a.columns.get_level_values(1)\n",
    "\n",
    "a = a.assign(CV = lambda x:x['Con violencia'] / x['Total']).assign(SV = lambda x:x['Sin violencia'] / x['Total'])\n",
    "\n",
    "%matplotlib widget\n",
    "fig, ax = plt.subplots()\n",
    "\n",
    "ax.set_title('Robos en el año 2017')\n",
    "\n",
    "ax.bar(a.index, a['CV'], label = 'Con violencia')\n",
    "ax.set_ylabel('Robos Totales en el año')\n",
    "\n",
    "ax.bar(a.index, a['SV'], bottom = a['CV'], label = 'Sin violencia')\n",
    "\n",
    "ax.set_xticklabels(a.index, rotation = 90,\n",
    "                  fontdict = {'fontsize': 5})\n",
    "ax.legend()\n",
    "\n",
    "plt.show()"
   ]
  },
  {
   "cell_type": "code",
   "execution_count": 20,
   "metadata": {},
   "outputs": [],
   "source": [
    "robos_2018 = incidencia_tidy.query('`Subtipo de delito`== \"Robo a transeúnte en vía pública\" and Año == 2018')\n",
    "robos_2018_cdmx = robos_2018.query('Entidad == \"Ciudad de México\"')\n",
    "robos_2018_edomx = robos_2018.query('Entidad == \"México\"')"
   ]
  },
  {
   "cell_type": "code",
   "execution_count": 21,
   "metadata": {},
   "outputs": [
    {
     "data": {
      "application/vnd.jupyter.widget-view+json": {
       "model_id": "68dd09b7c6334b63beee6697f73c4b3f",
       "version_major": 2,
       "version_minor": 0
      },
      "text/plain": [
       "Canvas(toolbar=Toolbar(toolitems=[('Home', 'Reset original view', 'home', 'home'), ('Back', 'Back to previous …"
      ]
     },
     "metadata": {},
     "output_type": "display_data"
    },
    {
     "data": {
      "text/plain": [
       "<matplotlib.legend.Legend at 0x7faede3f2490>"
      ]
     },
     "execution_count": 21,
     "metadata": {},
     "output_type": "execute_result"
    }
   ],
   "source": [
    "%matplotlib widget\n",
    "fig, ax = plt.subplots()\n",
    "ax.hist(robos_2018_edomx['Total'], label = 'Estado de México', bins = 20) #key-word argument bins\n",
    "ax.hist(robos_2018_cdmx['Total'], label = 'Ciudad de México', bins = 30)  #kew-word argument alpha\n",
    "ax.set_xlabel('Número de robos')\n",
    "ax.legend()"
   ]
  },
  {
   "cell_type": "markdown",
   "metadata": {},
   "source": [
    "#### Tu turno\n",
    "Utiliza un histograma con diferente número de `bins` para investigar el quilataje de los diamantes de la base `diamantes_clean`."
   ]
  },
  {
   "cell_type": "code",
   "execution_count": null,
   "metadata": {},
   "outputs": [],
   "source": [
    "\"\"\"\n",
    "diamantes = pd.read_csv('../Datos/diamonds_factors.csv', parse_dates = [10])\n",
    "diamantes['color'] = diamantes['color'].astype('category')\n",
    "diamantes['price'] = diamantes['price'].str.strip('$').astype('float')\n",
    "bad_records = diamantes['date_sold'] > dt.datetime.today()\n",
    "index = diamantes[bad_records].index\n",
    "diamantes.drop(index = index)\n",
    "diamantes_clean = diamantes.drop_duplicates(keep = 'last')\n",
    "diamantes_clean\n",
    "\"\"\"\n",
    "fig, ax = plt.subplots(2, 2)\n",
    "bins = np.array([30, 50, 100, 200]).reshape(2, 2)\n",
    "for i in [0, 1]:\n",
    "    for j in [0,1]:\n",
    "        ax[i, j].hist(diamantes['carat'], bins = bins[i, j])\n",
    "fig.suptitle('Dispersión de la variable `carat`')"
   ]
  },
  {
   "cell_type": "code",
   "execution_count": 22,
   "metadata": {},
   "outputs": [
    {
     "data": {
      "application/vnd.jupyter.widget-view+json": {
       "model_id": "6237f0f788314f0a98319a01b9fe4339",
       "version_major": 2,
       "version_minor": 0
      },
      "text/plain": [
       "Canvas(toolbar=Toolbar(toolitems=[('Home', 'Reset original view', 'home', 'home'), ('Back', 'Back to previous …"
      ]
     },
     "metadata": {},
     "output_type": "display_data"
    },
    {
     "data": {
      "text/plain": [
       "Text(0, 0.5, 'Robos totales')"
      ]
     },
     "execution_count": 22,
     "metadata": {},
     "output_type": "execute_result"
    }
   ],
   "source": [
    "%matplotlib widget\n",
    "fig, ax = plt.subplots()\n",
    "\n",
    "ax.boxplot([robos_2018_edomx.query('Modalidad == \"Con violencia\"')['Total'],\n",
    "            robos_2018_edomx.query('Modalidad == \"Sin violencia\"')['Total']],\n",
    "           labels = ['Con Violencia', 'Sin Violencia'])  # kwd-arg vert\n",
    "ax.set_ylabel('Robos totales')"
   ]
  },
  {
   "cell_type": "markdown",
   "metadata": {},
   "source": [
    "## Seaborn\n",
    "\n",
    ">Seaborn is a Python data visualization library based on matplotlib. It provides a high-level interface for drawing attractive and informative statistical graphics.\n",
    "\n",
    "Puede ver [el sitio oficial](https://seaborn.pydata.org/index.html)"
   ]
  },
  {
   "cell_type": "code",
   "execution_count": 1,
   "metadata": {},
   "outputs": [],
   "source": [
    "import seaborn as sns\n",
    "import matplotlib.pyplot as plt\n",
    "\n",
    "tips = sns.load_dataset(\"tips\")\n",
    "tips.head()"
   ]
  },
  {
   "cell_type": "code",
   "execution_count": 19,
   "metadata": {},
   "outputs": [
    {
     "data": {
      "application/vnd.jupyter.widget-view+json": {
       "model_id": "8194a01c160b4d1bb07a768fc4f3dc9f",
       "version_major": 2,
       "version_minor": 0
      },
      "text/plain": [
       "Canvas(toolbar=Toolbar(toolitems=[('Home', 'Reset original view', 'home', 'home'), ('Back', 'Back to previous …"
      ]
     },
     "metadata": {},
     "output_type": "display_data"
    },
    {
     "data": {
      "text/plain": [
       "\"\\nfig, ax = plt.subplots()\\nax.scatter(tips.total_bill, tips.tip, edgecolors = 'white')\\n\""
      ]
     },
     "execution_count": 19,
     "metadata": {},
     "output_type": "execute_result"
    }
   ],
   "source": [
    "%matplotlib widget\n",
    "sns.relplot(x=\"total_bill\", y=\"tip\", data=tips)\n",
    "\n",
    "\"\"\"\n",
    "fig, ax = plt.subplots()\n",
    "ax.scatter(tips.total_bill, tips.tip, edgecolors = 'white')\n",
    "\"\"\""
   ]
  },
  {
   "cell_type": "code",
   "execution_count": 20,
   "metadata": {},
   "outputs": [
    {
     "data": {
      "application/vnd.jupyter.widget-view+json": {
       "model_id": "2240afa6f459436d8eb12a735a9010f0",
       "version_major": 2,
       "version_minor": 0
      },
      "text/plain": [
       "Canvas(toolbar=Toolbar(toolitems=[('Home', 'Reset original view', 'home', 'home'), ('Back', 'Back to previous …"
      ]
     },
     "metadata": {},
     "output_type": "display_data"
    },
    {
     "data": {
      "text/plain": [
       "<seaborn.axisgrid.FacetGrid at 0x7ffcf4d5d460>"
      ]
     },
     "execution_count": 20,
     "metadata": {},
     "output_type": "execute_result"
    }
   ],
   "source": [
    "sns.relplot(x=\"total_bill\", y=\"tip\", hue=\"smoker\", data=tips)"
   ]
  },
  {
   "cell_type": "code",
   "execution_count": 24,
   "metadata": {},
   "outputs": [
    {
     "data": {
      "application/vnd.jupyter.widget-view+json": {
       "model_id": "f5930eb764c945358ac44b9c41037227",
       "version_major": 2,
       "version_minor": 0
      },
      "text/plain": [
       "Canvas(toolbar=Toolbar(toolitems=[('Home', 'Reset original view', 'home', 'home'), ('Back', 'Back to previous …"
      ]
     },
     "metadata": {},
     "output_type": "display_data"
    },
    {
     "data": {
      "text/plain": [
       "<seaborn.axisgrid.FacetGrid at 0x7ffcfe39cfa0>"
      ]
     },
     "execution_count": 24,
     "metadata": {},
     "output_type": "execute_result"
    }
   ],
   "source": [
    "sns.relplot(x=\"total_bill\", y=\"tip\", hue=\"smoker\", style=\"smoker\",\n",
    "            data=tips)"
   ]
  },
  {
   "cell_type": "code",
   "execution_count": 25,
   "metadata": {},
   "outputs": [
    {
     "data": {
      "application/vnd.jupyter.widget-view+json": {
       "model_id": "53d1d8c9f6554a0f9d0077857f37efdc",
       "version_major": 2,
       "version_minor": 0
      },
      "text/plain": [
       "Canvas(toolbar=Toolbar(toolitems=[('Home', 'Reset original view', 'home', 'home'), ('Back', 'Back to previous …"
      ]
     },
     "metadata": {},
     "output_type": "display_data"
    },
    {
     "data": {
      "text/plain": [
       "<seaborn.axisgrid.FacetGrid at 0x7ffcfee7bc40>"
      ]
     },
     "execution_count": 25,
     "metadata": {},
     "output_type": "execute_result"
    }
   ],
   "source": [
    "sns.relplot(x=\"total_bill\", y=\"tip\", hue=\"size\", data=tips) #La escala con un float-eable es un gradiente"
   ]
  },
  {
   "cell_type": "markdown",
   "metadata": {},
   "source": [
    "Para saber más sobre las paletas de color, puede visitarse [esta página](https://seaborn.pydata.org/tutorial/color_palettes.html).  En variables categóricas tenemos :\n",
    "\n",
    "1.  Colores con saltos uniformes en el tono con `sns.hls_palette(n, h, l, s)` y `sns.husl_palette(n, h, s, l)` \n",
    "2.  Paletas conformadas por el [ColorBrewer](https://colorbrewer2.org/#type=sequential&scheme=BuGn&n=3).  Seaborn cuenta con las paletas `deep`, `muted`, `bright`, `pastel`, `dark`, y `colorblind`. \n",
    "3.  Paletas del tipo [Cube Helix](https://jiffyclub.github.io/palettable/cubehelix/) (que también se usan en la representación de escalas continuas de color)."
   ]
  },
  {
   "cell_type": "code",
   "execution_count": 42,
   "metadata": {},
   "outputs": [
    {
     "data": {
      "application/vnd.jupyter.widget-view+json": {
       "model_id": "22f6c59131e349e38e7fb969dca50725",
       "version_major": 2,
       "version_minor": 0
      },
      "text/plain": [
       "Canvas(toolbar=Toolbar(toolitems=[('Home', 'Reset original view', 'home', 'home'), ('Back', 'Back to previous …"
      ]
     },
     "metadata": {},
     "output_type": "display_data"
    }
   ],
   "source": [
    "sns.palplot(sns.husl_palette(9, s = 0.8, l = 0.8))"
   ]
  },
  {
   "cell_type": "code",
   "execution_count": 49,
   "metadata": {},
   "outputs": [
    {
     "data": {
      "application/vnd.jupyter.widget-view+json": {
       "model_id": "efd08415561e4e139b42cabdd0b4f437",
       "version_major": 2,
       "version_minor": 0
      },
      "text/plain": [
       "Canvas(toolbar=Toolbar(toolitems=[('Home', 'Reset original view', 'home', 'home'), ('Back', 'Back to previous …"
      ]
     },
     "metadata": {},
     "output_type": "display_data"
    }
   ],
   "source": [
    "sns.palplot(sns.color_palette('Blues', 9))"
   ]
  },
  {
   "cell_type": "code",
   "execution_count": 53,
   "metadata": {},
   "outputs": [
    {
     "data": {
      "application/vnd.jupyter.widget-view+json": {
       "model_id": "5ddd368d98ee4ca4825ab0d83b1e6e91",
       "version_major": 2,
       "version_minor": 0
      },
      "text/plain": [
       "Canvas(toolbar=Toolbar(toolitems=[('Home', 'Reset original view', 'home', 'home'), ('Back', 'Back to previous …"
      ]
     },
     "metadata": {},
     "output_type": "display_data"
    }
   ],
   "source": [
    "sns.palplot(sns.cubehelix_palette(8))"
   ]
  },
  {
   "cell_type": "code",
   "execution_count": null,
   "metadata": {},
   "outputs": [],
   "source": []
  }
 ],
 "metadata": {
  "kernelspec": {
   "display_name": "DiplomadoEnv",
   "language": "python",
   "name": "diplomadoenv"
  },
  "language_info": {
   "codemirror_mode": {
    "name": "ipython",
    "version": 3
   },
   "file_extension": ".py",
   "mimetype": "text/x-python",
   "name": "python",
   "nbconvert_exporter": "python",
   "pygments_lexer": "ipython3",
   "version": "3.8.3"
  }
 },
 "nbformat": 4,
 "nbformat_minor": 4
}

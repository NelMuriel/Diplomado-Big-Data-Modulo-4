{
 "cells": [
  {
   "cell_type": "markdown",
   "metadata": {},
   "source": [
    "# Caso de Estudio Práctico: Criminalidad en Chicago en 2020\n",
    "\n",
    "Usaremos datos descargados del sitio de datos abiertos de Chicago desde https://data.cityofchicago.org.  Cada registro contiene una serie de variable seleccionadas del registro original.  Consulte [esta página](https://data.cityofchicago.org/Public-Safety/Crimes-2020/qzdf-xmn8) para más información.  Analicemos ahora los datos para poder responder: ¿Cuáles son los cinco delitos más comunes por mes en Chicago? y ... Para ello:\n",
    "\n",
    "0. Importaremos los datos con el siguiente código:"
   ]
  },
  {
   "cell_type": "code",
   "execution_count": 8,
   "metadata": {},
   "outputs": [
    {
     "data": {
      "text/plain": [
       "['Date',\n",
       " 'Block',\n",
       " 'Primary Type',\n",
       " 'Description',\n",
       " 'Location Description',\n",
       " 'Arrest',\n",
       " 'Domestic',\n",
       " 'District']"
      ]
     },
     "execution_count": 8,
     "metadata": {},
     "output_type": "execute_result"
    }
   ],
   "source": [
    "#-- importación de los datos. No cambiar este código\n",
    "import csv\n",
    "registros = []\n",
    "with open('../Datos/Crimes_2020.csv', 'r') as file:\n",
    "    for row in csv.reader(file):\n",
    "        registros.append([row[2], row[3], *row[5:10], row[11]])\n",
    "registros.pop(0)"
   ]
  },
  {
   "cell_type": "markdown",
   "metadata": {},
   "source": [
    "1. Centremos la atención en la parte relevante de la información: Fecha, Tipo, Localización, y si resultó el crimen en arresto.  Para ello crea una nueva lista llamada `datos` que contenga sólo esas cuatro entradas de cada registro en `registros`.  Comienza con una lista vacía y haz un ciclo.\n",
    "2. Veamos cuántos crímenes se han cometido cada mes.  Para ello utilizaremos un `Counter` del móudlo `collections` y el módulo `datetime`.  Importe estos dos objetos. El objeto tipo `Counter` es, para nuestros fines, un diccionario con la facilidad de que puede ordenar sus entradas por los valores.  Defina un nuevo objeto de este tipo con: `crimenes_mensuales = Counter()`\n",
    "3. En un ciclo for:\n",
    "    a. Para cada registro, interprete la fecha como un objeto `datetime`. Para ello use el método `strptime()` con el formato `'%m/%d/%Y %I:%M:%S %p'` \n",
    "    b. Sume 1 a la llave del del mes para la fecha especificada. Para ello sustitula los suspensivos en `crimenes_mensuales[ ... ] += 1` (dentro de su ciclo!).\n",
    "4. Aplique a `crimenes_mensuales` el método `.most_common()` con argumento `5` para conocer los cinco meses con mayor criminalidad en Chicago en este 2020."
   ]
  },
  {
   "cell_type": "code",
   "execution_count": null,
   "metadata": {},
   "outputs": [],
   "source": []
  },
  {
   "cell_type": "markdown",
   "metadata": {},
   "source": [
    "Ahora, volviendo a la lista de `registros` concentrémonos en los tres meses con más crímenes y analicemos las localizaciones.  Recuerde que las localizaciones son el quinto elemento de cada renglón.\n",
    "\n",
    "1. Importe `defaultdict` desde el módulo `collections` y cree un objeto de ese tipo con el nombre `lugares_frecuentes` cuyo default sea una lista\n",
    "2. Haga un ciclo sobre cada `registro` de sus `registros`.  En este ciclo:\n",
    "    a. Convierta la fecha (primer elemento) en un objeto datetime\n",
    "    b. Si el mes del registro es alguno de los tres más inseguros, añada la localización (quinto elemento del registro) con el método `.append()` a la lista con llave mes de ocurrencia. (utilice el atributo `.month` para genera esta llave)."
   ]
  },
  {
   "cell_type": "code",
   "execution_count": null,
   "metadata": {},
   "outputs": [],
   "source": []
  },
  {
   "cell_type": "markdown",
   "metadata": {},
   "source": [
    "Ahora veremos los crímenes más frecuentes por localización usando este diccionario.  Algo como el método `.most_common()` ayuaría mucho...Para poder utilizarlo:\n",
    "\n",
    "1. Haz un loop `for` sobre `mes` y `lugares` en `lugares_frecuentes.items()` (Recuerdas como iterar en un diccionario?). En este ciclo:\n",
    "    a. Define un contador para la lista de `lugares` \n",
    "    b. Imprime el mes e imprime el resultado de aplicar el método `.most_common(5)` a cada contador"
   ]
  },
  {
   "cell_type": "code",
   "execution_count": null,
   "metadata": {},
   "outputs": [],
   "source": []
  }
 ],
 "metadata": {
  "kernelspec": {
   "display_name": "DiplomadoEnv",
   "language": "python",
   "name": "diplomadoenv"
  },
  "language_info": {
   "codemirror_mode": {
    "name": "ipython",
    "version": 3
   },
   "file_extension": ".py",
   "mimetype": "text/x-python",
   "name": "python",
   "nbconvert_exporter": "python",
   "pygments_lexer": "ipython3",
   "version": "3.8.3"
  }
 },
 "nbformat": 4,
 "nbformat_minor": 4
}

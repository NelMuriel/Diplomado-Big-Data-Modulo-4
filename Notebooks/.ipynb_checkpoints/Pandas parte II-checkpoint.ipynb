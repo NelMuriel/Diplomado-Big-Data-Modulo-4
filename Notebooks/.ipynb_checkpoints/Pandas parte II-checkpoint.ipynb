{
 "cells": [
  {
   "cell_type": "markdown",
   "metadata": {},
   "source": [
    "## Importación y exploración de datos en Pandas\n",
    "\n",
    "### Importación revisited\n",
    "\n",
    "Podemos encontrar la base de datos del número de manchas solares (sunspot) diarias en la página web de [SISLO](http://www.sidc.be/silso/datafiles).  \n",
    "\n",
    "```python\n",
    "import pandas as pd\n",
    "url = 'http://www.sidc.be/silso/INFO/sndtotcsv.php'\n",
    "data = pd.read_csv(url)\n",
    "```"
   ]
  },
  {
   "cell_type": "code",
   "execution_count": null,
   "metadata": {},
   "outputs": [],
   "source": []
  },
  {
   "cell_type": "markdown",
   "metadata": {},
   "source": [
    "Qué problemas tiene esta importación y cómo arreglarlos?  Visitemos [la información del juego de datos](http://www.sidc.be/silso/infosndtot).\n",
    "\n",
    "Requerimos: \n",
    "1. Definir apropiadamente el separador\n",
    "2. Evitar que `pandas` asigne un nombre automático de columna\n",
    "3. Poner nombres de columna apropiados\n",
    "4. Distinguir las observaciones que son NA de las que son un dato en la columna 5 (4 en Python)\n",
    "5. Poner las fechas en un formato conveniente para cálculos en Python\n",
    "6. Utilizar las fechas como índice (nombre de renglón) \n"
   ]
  },
  {
   "cell_type": "markdown",
   "metadata": {},
   "source": [
    "```python\n",
    "data = pd.read_csv(url, sep = \";\"), # arregla 1\n",
    "data = pd.read_csv(url, sep = \";\", header = None) # arregla 1 y 2\n",
    "\n",
    "col_names = ['año', 'mes', 'dia', 'fecha_fraccion', 'manchas', 'sd_manchas', 'nobs', 'es_definitivo']\n",
    "data = pd.read_csv(url, sep = \";\", header = None, names = col_names)  # arregla 1, 2, y  3\n",
    "data = pd.read_csv(url, sep = \";\", header = None, names = col_names, na_values = [\"  -1\", \" -1.0\"]) \n",
    "# arregla 1, 2, 3, y 4 \n",
    "\n",
    "# alternativa más flexible\n",
    "data = pd.read_csv(url, sep = \";\", header = None, names = col_names, \n",
    "                   na_values = {\"manchas\":[\"  -1\"], \"sd_manchas\":[\" -1.0\"]}) # arregla 1, 2, 3, y 4\n",
    "\n",
    "data = pd.read_csv(url, sep = \";\", header = None, names = col_names, \n",
    "                   na_values = {\"manchas\":[\"  -1\"], \"sd_manchas\":[\" -1.0\"]},\n",
    "                   parse_dates = [[0, 1, 2]])  # arregla 1, 2, 3, 4, y 5\n",
    "\n",
    "data.index = data[\"año_mes_dia\"]\n",
    "data.index.name = \"fecha\"  # arregla 1-6 y renombra el índice de renglón\n",
    "```\n",
    "\n",
    "Finalmente, seleccionamos las variables que queremos estudiar, digamos `manchas` y `es_definitivo` para obtener un juego de datos compacto\n",
    "\n",
    "```python\n",
    "manchas = data[['manchas', 'es_definitivo']]\n",
    "```\n",
    "Finalmente, para exportar este juego de datos podemos utilizar los métodos `to_csv`y `to_excel` como sigue\n",
    "\n",
    "```python\n",
    "csv_file = 'manchas.csv'\n",
    "manchas.to_csv(csv_file)\n",
    "\n",
    "tsv_file = 'manchas.tsv'\n",
    "manchas.to_csv(tsv_file, sep = \"\\t\")\n",
    "\n",
    "xlsx_file = 'manchas.xlsx'\n",
    "manchas.to_excel(xlsx_file)\n",
    "\n",
    "```"
   ]
  },
  {
   "cell_type": "code",
   "execution_count": null,
   "metadata": {},
   "outputs": [],
   "source": []
  },
  {
   "cell_type": "markdown",
   "metadata": {},
   "source": [
    "### Ahora es tu turno\n",
    "\n",
    "Usaremos el archivo `messy_yahoo_data.tsv`.  En este archivo hemos descargado datos de distintos activos desde [Yahoo! Finance](https://finance.yahoo.com).  Cada renglón es un activo y cada columna contiene el precio de cierre al final de cada mes.\n",
    "\n",
    "1. Carga el archivo `messy_yahoo_data.tsv`  usando el comando read_csv sin más argumentos y examina el resultado para enlistar los problemas de importación.\n",
    "2. Utiliza los arugmentos `delimiter`, `header`, y `comment` para arreglar este desastre  (consluta la ayuda de `pd.read_csv`\n",
    "3. Guarda tu base de datos limpia en un archivo .csv llamado `clean_yahoo_finance.csv` y en un archivo excel con el mismo nombre."
   ]
  },
  {
   "cell_type": "code",
   "execution_count": null,
   "metadata": {},
   "outputs": [],
   "source": []
  },
  {
   "cell_type": "markdown",
   "metadata": {},
   "source": [
    "### Gráficos desde un objeto DataFrame\n",
    "\n",
    "Comenzamos cargando los módulos `matplotlib.pyplot` y `pandas`.  Descargamos y leemos los datos de Netflix desde [Yahoo! Finance](https://finance.yahoo.com), asignándolos a la variable `nflx`.\n",
    "\n",
    "```python\n",
    "import matplotlib.pyplot as plt\n",
    "import pandas as pd\n",
    "\n",
    "nflx_url = 'https://query1.finance.yahoo.com/v7/finance/download/NFLX?period1=1554571865&period2=1586190665&interval=1d&events=history'\n",
    "\n",
    "nflx = pd.read_csv(nflx_url, index_col = \"Date\", parse_dates = True)\n",
    "```\n",
    "\n",
    "#### Algunas posibilidades: \n",
    "\n",
    "1. Usando `np.array`s\n",
    "```python\n",
    "close = nflx['Close'].values\n",
    "plt.plot(close)\n",
    "plt.show()\n",
    "```\n",
    "\n",
    "2. Usando `pandas Series` y `plt.plot()`\n",
    "```python\n",
    "close_series = nflx['Close']\n",
    "plt.plot(close_series)\n",
    "plt.show()\n",
    "```\n",
    "Ventaja:  Se utiliza, automáticamente, el índice de la base de datos en el eje X\n",
    "\n",
    "3. Usando `pandas Series` y el método `.plot`\n",
    "```python\n",
    "close_series.plot()\n",
    "plt.show()\n",
    "```\n",
    "\n",
    "Ventaja:  Arregla la nomenclatura del eje X para que sea más legible y lo nombra según el nombre del índice (Date)\n",
    "\n",
    "4. Si se busca ver más de una serie, se puede utilizar el método `.plot` de la base de datos\n",
    "\n",
    "```python\n",
    "nflx.plot()\n",
    "plt.show()\n",
    "```\n",
    "\n",
    "Desventaja: La escala del eje de referencia no ayuda a la visualización en este como en muchos otros casos. Esto puede arreglarse, en ocasiones, utilizando una escala logarítmica\n",
    "\n",
    "```python\n",
    "nflx.plot()\n",
    "plt.yscale(\"log\")\n",
    "plt.show()\n",
    "```\n",
    "\n",
    "5. Podemos conformar nuestro gráfico con las opciones de `plt.plot`, por ejemplo\n",
    "```python\n",
    "nflx['Open'].plot(color = 'b', style = '.-', legend = True)\n",
    "nflx['Close'].plot(color = 'r', style = '.', legend = True)\n",
    "plt.show()\n",
    "```\n",
    "\n",
    "6. Podemos seleccionar, graficar y guardar nuestros gráficos en distintos formatos:\n",
    "```python\n",
    "nflx.loc['2019-05':'2019-11', ['Open', 'Close']].plot()\n",
    "plt.savefig('netflix.png')\n",
    "plt.savefig('netflix.jpg')\n",
    "plt.savefig('netflix.pdf')\n",
    "plt.show()\n",
    "```\n"
   ]
  },
  {
   "cell_type": "code",
   "execution_count": null,
   "metadata": {},
   "outputs": [],
   "source": []
  },
  {
   "cell_type": "markdown",
   "metadata": {},
   "source": [
    "Utilizando los datos del ejemplo, para evitar el problema del escalamiento del eje y en el gráfico, haga lo siguiente, utilice el agrumento `subplots` del método `.plot` del objeto `nflx` "
   ]
  },
  {
   "cell_type": "code",
   "execution_count": null,
   "metadata": {},
   "outputs": [],
   "source": []
  },
  {
   "cell_type": "markdown",
   "metadata": {},
   "source": [
    "#### Gráficos con columnas específicas\n",
    "\n",
    "Utilicemos ahora el archivo `stock_data.csv` para hacer gráficos por columna. El objetivo es especificar qué columnas deberán estar en qué eje de forma explícita.  En particular graficaremos los precios de Apple y SP500 (de una base que contiene también precios de Netflix) contra el tiempo (que está en la base también). Para ello: \n",
    "1. Asigne al objeto `stocks` una base de datos con los contenidos del archivo `stock_data.csv`\n",
    "2. Asigne a la lista `columnas_y` los nombres de las columnas que deseamos graficar\n",
    "3. Utilice el método `.plot` de la base de datos con argumentos `x = 'Date'` y `y = columnas_y` \n",
    "4. Utilice el método `.title`de la función `plt` para añadir el título \"Precios diarios de Acciones\"\n",
    "5. Utilice el método `.ylabel` de la función `plt` para añadir el título al eje y \"Precio en USD\"\n",
    "6. Muestre el gráfico\n"
   ]
  },
  {
   "cell_type": "code",
   "execution_count": null,
   "metadata": {},
   "outputs": [],
   "source": []
  },
  {
   "cell_type": "markdown",
   "metadata": {},
   "source": [
    "#### Diagramas de dispersión (scatterplots)\n",
    "\n",
    "También es posible generar diagramas de dispersión (scatterplots) con DataFrames.  En este ejercicio examinaremos una base de datos para visualizar la eficiencia de consumo de combustible de 398 vehículos automotores manufacturados en el preríodo de 1970 a 1982.  Estos datos se encuentran disponibles en el [UCI Machine Learning Repository](http://archive.ics.uci.edu/ml/datasets.php) bajo el rubro [Auto MPG](http://archive.ics.uci.edu/ml/datasets/Auto+MPG), en el link Data Folder.  Es el archivo [auto-mpg.data](http://archive.ics.uci.edu/ml/machine-learning-databases/auto-mpg/auto-mpg.data).\n",
    "\n",
    "1. Utiliza `pd.read_csv()` para leer los datos.  Asígnalos al objeto `car_data`.  Estás teniendo algún problema de importación ??\n",
    "2. Resuelto cualquier problema de importación, nombremos nuestras variables según la página de información de la base de datos. Utilice una lista llamada `col_names` para este paso.\n",
    "3. Utiliza el método `.plot()` del objeto `car_data` con los argumento `kind = 'scatter'`, ` ____ = 'hp'` y `y = ____` para hacer un gráfico de dispersión entre **horse power** en el eje X y **Miles per gallon** en el eje Y.\n",
    "4. Añade el título _Eficiencia de combustible vs Caballos de Fuerza_\n",
    "5. Añade los títulos de ejes _Caballos de Fuerza_ para el eje X y _Eficiencia de combustible (mpg)_ en el eje Y\n",
    "6. Muestra tu gráfico\n",
    "7. Modifica tu gráfico variando el tamaño de cada punto con el argumento `s = sizes`.  El vector `sizes` debe contener los valores normalizados del peso del automovil según la fórmula\n",
    "$$ Y = 100 \\times \\frac{X_i - min(X_i)}{max(X_i) - min(X_i)} $$"
   ]
  },
  {
   "cell_type": "code",
   "execution_count": null,
   "metadata": {},
   "outputs": [],
   "source": []
  },
  {
   "cell_type": "markdown",
   "metadata": {},
   "source": [
    "####  Diagramas de caja (boxplots)\n",
    "\n",
    "Ahora generará un diagrama de caja con el mismo objeto DataFrame del ejercicio anterior.  Resumirá las variables de eficiencia de uso del combustible `mpg` y la aceleración del vehículo `acel`.  Para ello:\n",
    "\n",
    "1.  Haga una lista llamada `cols_resumen` que contenga los nombres de las columnas que pretende analizar\n",
    "2. Utilice el método `.plot` sobre la base de datos que resulta de seleccionar esas columnas de la base `car_data`.  En este comando, utilice el argumento `kind = 'box'` para que su gráfico sea un diagrama de caja y el argumento `subplots = True` para que ambos diagramas se aprecien en una misma ventana gráfica.\n"
   ]
  },
  {
   "cell_type": "code",
   "execution_count": null,
   "metadata": {},
   "outputs": [],
   "source": []
  },
  {
   "cell_type": "markdown",
   "metadata": {},
   "source": [
    "#### Histogramas, densidades, y distribuciones empíricas\n",
    "\n",
    "El método `.hist` de pandas nos da gráficos de histograma, densidad empírica (pdf), y función de distribución empírica (cdf).  En este ejercicio utilizaremos el juego de datos \"Wisconsin Diagnostic Breast Cancer (WDBC)\" disponible el el UCI Machine Learning Repository en [esta carpeta](http://archive.ics.uci.edu/ml/machine-learning-databases/breast-cancer-wisconsin/). El archivo de nuestro interés es `wbdc.data`.  \n",
    "\n",
    "1. Utilice `pd.read_csv` para cargar el juego de datos (verifique que sea una importación sin problemas)\n",
    "2. Para que sus gráficos se vean uno sobre el otro, comience el código para generar su plot con el comando\n",
    "```python\n",
    "fig, ejes = plt.subplots(nrows = 2, ncols = 1)\n",
    "```\n",
    "3. Utilice el método `.describe` de su base de datos para saber los valores mínimos y máximos de la tercera variable de su base de datos (el radio del núcleo celular)\n",
    "4. Para hacer un histograma normalizado (pdf) de esta variable, complete el comando siguiente\n",
    "```python\n",
    "bc[...].plot(ax = ejes[0], kind = 'hist', ... = ... , ... = ..., range = (..., ...))\n",
    "```\n",
    "con los argumentos `normed = True`, `bins = 30`, y en `range` ponga algo próximo a los valores mínimo y máximo de la variable de interés.\n",
    "5. Para generar la distribución acumulada, complete el comando\n",
    "```python\n",
    "bc[...].plot(ax = ..., kind = ..., normed = ..., ... = ..., bins = ..., ... = (..., ...))\n",
    "```\n",
    "con los argumentos correspondientes.  En particular, decida el argumento `ax` y añada el argumento `cumulative = True`.\n",
    "6. Utilice el método `plt.suptitle(...)` para poner el título _PDF y CDF del radio celular_ a su gráfico\n",
    "7. Muestre su gráfico"
   ]
  },
  {
   "cell_type": "code",
   "execution_count": null,
   "metadata": {},
   "outputs": [],
   "source": []
  },
  {
   "cell_type": "markdown",
   "metadata": {},
   "source": [
    "### Exploración descriptiva de datos\n",
    "\n",
    "Ahora buscaremos medidas estadísticas, numéricas, para describir más a fondo una base de datos.  El método `.describe` que usamos anteriormente, será nuestro punto de partida.  Observe el resultado de"
   ]
  },
  {
   "cell_type": "code",
   "execution_count": 59,
   "metadata": {},
   "outputs": [
    {
     "data": {
      "text/html": [
       "<div>\n",
       "<style scoped>\n",
       "    .dataframe tbody tr th:only-of-type {\n",
       "        vertical-align: middle;\n",
       "    }\n",
       "\n",
       "    .dataframe tbody tr th {\n",
       "        vertical-align: top;\n",
       "    }\n",
       "\n",
       "    .dataframe thead th {\n",
       "        text-align: right;\n",
       "    }\n",
       "</style>\n",
       "<table border=\"1\" class=\"dataframe\">\n",
       "  <thead>\n",
       "    <tr style=\"text-align: right;\">\n",
       "      <th></th>\n",
       "      <th>mpg</th>\n",
       "      <th>cyl</th>\n",
       "      <th>displ</th>\n",
       "      <th>hp</th>\n",
       "      <th>wt</th>\n",
       "      <th>accel</th>\n",
       "      <th>yr</th>\n",
       "      <th>origin</th>\n",
       "    </tr>\n",
       "  </thead>\n",
       "  <tbody>\n",
       "    <tr>\n",
       "      <th>count</th>\n",
       "      <td>398.000000</td>\n",
       "      <td>398.000000</td>\n",
       "      <td>398.000000</td>\n",
       "      <td>392.000000</td>\n",
       "      <td>398.000000</td>\n",
       "      <td>398.000000</td>\n",
       "      <td>398.000000</td>\n",
       "      <td>398.000000</td>\n",
       "    </tr>\n",
       "    <tr>\n",
       "      <th>mean</th>\n",
       "      <td>23.514573</td>\n",
       "      <td>5.454774</td>\n",
       "      <td>193.425879</td>\n",
       "      <td>104.469388</td>\n",
       "      <td>2970.424623</td>\n",
       "      <td>15.568090</td>\n",
       "      <td>76.010050</td>\n",
       "      <td>1.572864</td>\n",
       "    </tr>\n",
       "    <tr>\n",
       "      <th>std</th>\n",
       "      <td>7.815984</td>\n",
       "      <td>1.701004</td>\n",
       "      <td>104.269838</td>\n",
       "      <td>38.491160</td>\n",
       "      <td>846.841774</td>\n",
       "      <td>2.757689</td>\n",
       "      <td>3.697627</td>\n",
       "      <td>0.802055</td>\n",
       "    </tr>\n",
       "    <tr>\n",
       "      <th>min</th>\n",
       "      <td>9.000000</td>\n",
       "      <td>3.000000</td>\n",
       "      <td>68.000000</td>\n",
       "      <td>46.000000</td>\n",
       "      <td>1613.000000</td>\n",
       "      <td>8.000000</td>\n",
       "      <td>70.000000</td>\n",
       "      <td>1.000000</td>\n",
       "    </tr>\n",
       "    <tr>\n",
       "      <th>25%</th>\n",
       "      <td>17.500000</td>\n",
       "      <td>4.000000</td>\n",
       "      <td>104.250000</td>\n",
       "      <td>75.000000</td>\n",
       "      <td>2223.750000</td>\n",
       "      <td>13.825000</td>\n",
       "      <td>73.000000</td>\n",
       "      <td>1.000000</td>\n",
       "    </tr>\n",
       "    <tr>\n",
       "      <th>50%</th>\n",
       "      <td>23.000000</td>\n",
       "      <td>4.000000</td>\n",
       "      <td>148.500000</td>\n",
       "      <td>93.500000</td>\n",
       "      <td>2803.500000</td>\n",
       "      <td>15.500000</td>\n",
       "      <td>76.000000</td>\n",
       "      <td>1.000000</td>\n",
       "    </tr>\n",
       "    <tr>\n",
       "      <th>75%</th>\n",
       "      <td>29.000000</td>\n",
       "      <td>8.000000</td>\n",
       "      <td>262.000000</td>\n",
       "      <td>126.000000</td>\n",
       "      <td>3608.000000</td>\n",
       "      <td>17.175000</td>\n",
       "      <td>79.000000</td>\n",
       "      <td>2.000000</td>\n",
       "    </tr>\n",
       "    <tr>\n",
       "      <th>max</th>\n",
       "      <td>46.600000</td>\n",
       "      <td>8.000000</td>\n",
       "      <td>455.000000</td>\n",
       "      <td>230.000000</td>\n",
       "      <td>5140.000000</td>\n",
       "      <td>24.800000</td>\n",
       "      <td>82.000000</td>\n",
       "      <td>3.000000</td>\n",
       "    </tr>\n",
       "  </tbody>\n",
       "</table>\n",
       "</div>"
      ],
      "text/plain": [
       "              mpg         cyl       displ          hp           wt  \\\n",
       "count  398.000000  398.000000  398.000000  392.000000   398.000000   \n",
       "mean    23.514573    5.454774  193.425879  104.469388  2970.424623   \n",
       "std      7.815984    1.701004  104.269838   38.491160   846.841774   \n",
       "min      9.000000    3.000000   68.000000   46.000000  1613.000000   \n",
       "25%     17.500000    4.000000  104.250000   75.000000  2223.750000   \n",
       "50%     23.000000    4.000000  148.500000   93.500000  2803.500000   \n",
       "75%     29.000000    8.000000  262.000000  126.000000  3608.000000   \n",
       "max     46.600000    8.000000  455.000000  230.000000  5140.000000   \n",
       "\n",
       "            accel          yr      origin  \n",
       "count  398.000000  398.000000  398.000000  \n",
       "mean    15.568090   76.010050    1.572864  \n",
       "std      2.757689    3.697627    0.802055  \n",
       "min      8.000000   70.000000    1.000000  \n",
       "25%     13.825000   73.000000    1.000000  \n",
       "50%     15.500000   76.000000    1.000000  \n",
       "75%     17.175000   79.000000    2.000000  \n",
       "max     24.800000   82.000000    3.000000  "
      ]
     },
     "execution_count": 59,
     "metadata": {},
     "output_type": "execute_result"
    }
   ],
   "source": [
    "car_data.describe()"
   ]
  },
  {
   "cell_type": "markdown",
   "metadata": {},
   "source": [
    "Estos resultados revelan métodos que podemos usar sobre `Series` como en"
   ]
  },
  {
   "cell_type": "code",
   "execution_count": 61,
   "metadata": {},
   "outputs": [
    {
     "name": "stdout",
     "output_type": "stream",
     "text": [
      "398\n",
      "7.815984312565782\n"
     ]
    }
   ],
   "source": [
    "print(car_data['mpg'].count())\n",
    "print(car_data['mpg'].std())"
   ]
  },
  {
   "cell_type": "markdown",
   "metadata": {},
   "source": [
    "o en bases de datos como en"
   ]
  },
  {
   "cell_type": "code",
   "execution_count": 63,
   "metadata": {},
   "outputs": [
    {
     "data": {
      "text/plain": [
       "mpg       398\n",
       "cyl       398\n",
       "displ     398\n",
       "hp        392\n",
       "wt        398\n",
       "accel     398\n",
       "yr        398\n",
       "origin    398\n",
       "name      398\n",
       "dtype: int64"
      ]
     },
     "execution_count": 63,
     "metadata": {},
     "output_type": "execute_result"
    }
   ],
   "source": [
    "car_data.count()"
   ]
  },
  {
   "cell_type": "markdown",
   "metadata": {},
   "source": [
    "Explore los métodos `.mean`, `.median`, `.quantile(q)`.  En este último caso, utilice `q` como un escalar primero y después como una lista.  Explore también los métodos `.min` y `.max`.\n",
    "\n",
    "Con estas herramientas, responda:\n",
    "1. Cuál es la mediana de la aceleración en la base de datos `car_data`?\n",
    "2. Cuál es el cuantil del 90% del peso en la base de datos `car_data`?\n",
    "3. Cuál es el rango (valor máximo - valor mínimo) del desplazamiento en la base de datos `car_data`?"
   ]
  },
  {
   "cell_type": "code",
   "execution_count": null,
   "metadata": {},
   "outputs": [],
   "source": []
  },
  {
   "cell_type": "markdown",
   "metadata": {},
   "source": [
    "Ahora, exploremos el argumento `axis` del mètodo `.mean` para una base de datos.  Según [la documentación](https://pandas.pydata.org/pandas-docs/stable/reference/api/pandas.DataFrame.mean.html), el argumento `axis` indica el eje sobre el que se aplicará la función.  En particular, podemos escribir:\n",
    "```python\n",
    "car_data.mean(axis = 0)\n",
    "car_data.mean(axis = 'rows')\n",
    "```\n",
    "para calcular la media **por columnas** de la base de datos, y podemos escribir\n",
    "```python\n",
    "car_cata.mean(axis = 1)\n",
    "car_data.mean(axis = 'columns')\n",
    "```\n",
    "para calcular la media **por renglones** de la base de datos.\n",
    "\n",
    "#### Práctica\n",
    "\n",
    "Practicaremos con los datos abiertos de incidencia delictiva publicados por el Secretariado Ejecutivo del Sistema Nacional de Seguridad Pública.  Utilizaremos las [Cifras de Incidencia Delictiva Estatal, 2015- febrero 2020](https://drive.google.com/open?id=1oXjC8xHW4kBYE9aP9HhHNLAquKjHfTN2) que tenemos en nuestro espacio de trabajo an el archivo `IDEFC_NM_feb2020.csv`.  Comenzaremos por cargar los datos con"
   ]
  },
  {
   "cell_type": "code",
   "execution_count": 203,
   "metadata": {},
   "outputs": [],
   "source": [
    "incid_delic = pd.read_csv(\"IDEFC_NM_feb2020.csv\", encoding = 'latin-1',\n",
    "                         index_col = 2, thousands = \",\")"
   ]
  },
  {
   "cell_type": "markdown",
   "metadata": {},
   "source": [
    "Ahora, haremos una reducción de los datos (más sobre estos métodos más adelante) al año 2018 y al crimen de _Robo de vehículos automotores de 4 ruedas sin violencia_"
   ]
  },
  {
   "cell_type": "code",
   "execution_count": 204,
   "metadata": {},
   "outputs": [],
   "source": [
    "incid_delic.query('Año == 2018 and `Subtipo de delito` == \"Robo de vehículo automotor\" and Modalidad == \"Robo de coche de 4 ruedas Sin violencia\"', inplace = True)\n",
    "incid_delic = incid_delic.iloc[:, 6:18]"
   ]
  },
  {
   "cell_type": "markdown",
   "metadata": {},
   "source": [
    "Utilizaremos el método `.mean` para calcular los promedios anuales en cada una de las entidades federativas y lo graficaremos con el método `.plot`.  Para ello\n",
    "\n",
    "1. Calcule el vector `robos_medios` como la media por Estado (eso es renglón o columna? qué eje debe usar en algumento `axis`?) del delito.\n",
    "2. Utilice el método `.plot()` sobre esta `Series`.  Tome en cuenta que el índice de la base de datos (El nombre de la entidad federativa) aparecerá, automáticamente, en el eje X, de modo que no necesita pasar ningún argumento a este método.  \n",
    "3. Muestre este gráfico"
   ]
  },
  {
   "cell_type": "code",
   "execution_count": null,
   "metadata": {},
   "outputs": [],
   "source": []
  },
  {
   "cell_type": "markdown",
   "metadata": {},
   "source": [
    "Mejoraremos un poco el gráfico anterior con los siguientes pasos:\n",
    "\n",
    "1. Cambie los marcadores del eje X completando el comando\n",
    "```python\n",
    "plt.xticks(ticks = np.arange(0, 32, 1), labels = ..., rotation = ...)\n",
    "```\n",
    "Como etiquetas utilice los nombres de la entidad federativa, que están disponibles, para una base de datos `df` en `df.index.values`.  Decida un ángulo de rotación que conforme a sus expectativas.\n",
    "\n",
    "2. Utilice el argumento `style = '.'` dentro del método `plot` para cambiar el gráfico de línea por uno de puntos. Decida cuál es más claro.\n",
    "\n",
    "3. Agregue el título _Robos de Vehículos automotores de 4 ruedas sin violencia_   Parta el título en dos líneas después de la palabra 'automotores' (Recuerde que el símbolo '\\n' representa un inicio de línea)\n",
    "\n",
    "4. Cambie el tamaño y tipo de letra de su título usando un `fontsize` de 14 y un `fontweight` tipo 'bold' en su uso de `plt.title()`.\n",
    "\n",
    "5. Incluya el nombre _Promedio mensual_ para su eje Y."
   ]
  },
  {
   "cell_type": "code",
   "execution_count": null,
   "metadata": {},
   "outputs": [],
   "source": []
  }
 ],
 "metadata": {
  "kernelspec": {
   "display_name": "DiplomadoEnv",
   "language": "python",
   "name": "diplomadoenv"
  },
  "language_info": {
   "codemirror_mode": {
    "name": "ipython",
    "version": 3
   },
   "file_extension": ".py",
   "mimetype": "text/x-python",
   "name": "python",
   "nbconvert_exporter": "python",
   "pygments_lexer": "ipython3",
   "version": "3.8.1"
  }
 },
 "nbformat": 4,
 "nbformat_minor": 4
}

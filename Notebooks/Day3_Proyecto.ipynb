{
 "cells": [
  {
   "cell_type": "markdown",
   "metadata": {},
   "source": [
    "## Vuelos que salieron desde el aeropuerto de NY \n",
    "\n",
    "En este proyecto utilizarás los datos de una muestra aleatoria de vuelos que salieron del aeropuerto de NY en el año 2013.  Pueden ver la documentación de estos datos (provenientes de un paquete de R) [aquí](https://www.rdocumentation.org/packages/statsr/versions/0.1-0/topics/nycflights).\n",
    "\n",
    "En particular, importa la base de datos en pandas y realiza las siguientes consultas.\n",
    "\n",
    "0. Anlice la base de datos. Qué dimensiones y tipos de variable tiene? Cuántas observaciones faltantes contiene? Use los métodos apropiados.\n",
    "\n",
    "1. Muestre todos los vuelos que:\n",
    "  * Salieron de SFO o de OAK,\n",
    "  * Salieron en Enero\n",
    "  * Sufrieron un retraso mayor a una hora\n",
    "  * Despegaron entre media noche y las 5 am\n",
    "  * Presenten un atraso de arribo mayor al doble del retraso de salida\n",
    " \n",
    "2. Responda: \n",
    "  * Cuáles vuelos son los más retrasados (para salir)?\n",
    "  * Cuáles vuelos ganaron más tiempo durante el viaje?\n",
    "  \n",
    "3. Calcule:\n",
    "  * La velocidad del vuelo en mph.  Cuáles son los más veloces?\n",
    "  * Añada una variable que muestre el tiempo que se ganó o perdió durante el viaje\n",
    "  \n",
    "4. Resuma estadísticamente la variable dep_delay por día.  Use tablas y gráficos\n",
    "\n",
    "5. Responda:\n",
    "  * Qué destinos tienen los retrasos promedio más altos?\n",
    "  * Qué vuelos ocurren diariamente y a dónde van?\n",
    "  * En promedio, cómo varía el retraso de vuelos no cancelados a lo largo del día?  Use un gráfico para esta pregunta.\n",
    "     "
   ]
  },
  {
   "cell_type": "code",
   "execution_count": null,
   "metadata": {},
   "outputs": [],
   "source": []
  }
 ],
 "metadata": {
  "kernelspec": {
   "display_name": "Diplomado",
   "language": "python",
   "name": "diplomado"
  },
  "language_info": {
   "codemirror_mode": {
    "name": "ipython",
    "version": 3
   },
   "file_extension": ".py",
   "mimetype": "text/x-python",
   "name": "python",
   "nbconvert_exporter": "python",
   "pygments_lexer": "ipython3",
   "version": "3.8.3"
  }
 },
 "nbformat": 4,
 "nbformat_minor": 4
}
